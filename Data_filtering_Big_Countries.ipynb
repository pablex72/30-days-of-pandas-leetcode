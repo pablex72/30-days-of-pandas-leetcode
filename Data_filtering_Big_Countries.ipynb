{
  "nbformat": 4,
  "nbformat_minor": 0,
  "metadata": {
    "colab": {
      "provenance": [],
      "authorship_tag": "ABX9TyMhn7JtoPUr2LMnreLhoJjb",
      "include_colab_link": true
    },
    "kernelspec": {
      "name": "python3",
      "display_name": "Python 3"
    },
    "language_info": {
      "name": "python"
    }
  },
  "cells": [
    {
      "cell_type": "markdown",
      "metadata": {
        "id": "view-in-github",
        "colab_type": "text"
      },
      "source": [
        "<a href=\"https://colab.research.google.com/github/pablex72/30-days-of-pandas-leetcode/blob/main/Data_filtering_Big_Countries.ipynb\" target=\"_parent\"><img src=\"https://colab.research.google.com/assets/colab-badge.svg\" alt=\"Open In Colab\"/></a>"
      ]
    },
    {
      "cell_type": "code",
      "execution_count": 1,
      "metadata": {
        "id": "HChdKCyoLKmE"
      },
      "outputs": [],
      "source": [
        "import pandas as pd\n",
        "\n",
        "def big_countries(world: pd.DataFrame) -> pd.DataFrame:\n",
        "    # Filter the big countries based on the conditions given\n",
        "    big_countries_df = world[(world['area'] >= 3000000) | (world['population'] >= 25000000)]\n",
        "\n",
        "    # Select only the required columns (name, population, and area)\n",
        "    result_df = big_countries_df[['name', 'population', 'area']]\n",
        "\n",
        "    return result_df\n"
      ]
    },
    {
      "cell_type": "code",
      "source": [
        "# Sample data for testing\n",
        "data = {\n",
        "    'name': ['Country1', 'Country2', 'Country3', 'Country4'],\n",
        "    'continent': ['Continent1', 'Continent2', 'Continent3', 'Continent4'],\n",
        "    'area': [2000000, 3500000, 500000, 4000000],\n",
        "    'population': [15000000, 30000000, 2000000, 40000000],\n",
        "    'gdp': [100000000, 200000000, 50000000, 300000000]\n",
        "}\n",
        "\n",
        "# Create a DataFrame from the sample data\n",
        "world_df = pd.DataFrame(data)\n",
        "\n",
        "# Call the function and get the result\n",
        "result = big_countries(world_df)\n",
        "\n",
        "# Print the result\n",
        "print(result)\n"
      ],
      "metadata": {
        "colab": {
          "base_uri": "https://localhost:8080/"
        },
        "id": "bOYl_CN0UNoa",
        "outputId": "fbfc2efb-bdf0-48f3-bce9-a0c70bb821bd"
      },
      "execution_count": 2,
      "outputs": [
        {
          "output_type": "stream",
          "name": "stdout",
          "text": [
            "       name  population     area\n",
            "1  Country2    30000000  3500000\n",
            "3  Country4    40000000  4000000\n"
          ]
        }
      ]
    }
  ]
}