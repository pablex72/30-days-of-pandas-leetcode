{
  "nbformat": 4,
  "nbformat_minor": 0,
  "metadata": {
    "colab": {
      "provenance": [],
      "authorship_tag": "ABX9TyP71qCmsr0b92BiRS6j+Gpk",
      "include_colab_link": true
    },
    "kernelspec": {
      "name": "python3",
      "display_name": "Python 3"
    },
    "language_info": {
      "name": "python"
    }
  },
  "cells": [
    {
      "cell_type": "markdown",
      "metadata": {
        "id": "view-in-github",
        "colab_type": "text"
      },
      "source": [
        "<a href=\"https://colab.research.google.com/github/pablex72/30-days-of-pandas-leetcode/blob/main/Customers_Who_Never_Order.ipynb\" target=\"_parent\"><img src=\"https://colab.research.google.com/assets/colab-badge.svg\" alt=\"Open In Colab\"/></a>"
      ]
    },
    {
      "cell_type": "code",
      "execution_count": 1,
      "metadata": {
        "id": "41LX_7NQo_z_"
      },
      "outputs": [],
      "source": [
        "import pandas as pd\n",
        "\n",
        "def find_customers(customers: pd.DataFrame, orders: pd.DataFrame) -> pd.DataFrame:\n",
        "    # Merge the Customers and Orders DataFrames on the 'id' and 'customerId' columns with a left join\n",
        "    merged_df = pd.merge(customers, orders, left_on='id', right_on='customerId', how='left')\n",
        "\n",
        "    # Filter out the customers who have not placed any orders (i.e., customerId is NaN)\n",
        "    customers_without_orders = merged_df[merged_df['customerId'].isnull()]\n",
        "\n",
        "    # If there are no customers without orders, return an empty DataFrame\n",
        "    if customers_without_orders.empty:\n",
        "        return pd.DataFrame(columns=['name'])\n",
        "\n",
        "    # Select only the required column (name) from the customers_without_orders DataFrame\n",
        "    result_df = customers_without_orders[['name']]\n",
        "\n",
        "    return result_df\n"
      ]
    },
    {
      "cell_type": "code",
      "source": [
        "# Sample data for testing\n",
        "customers_data = {\n",
        "    'id': [1, 2, 3, 4],\n",
        "    'name': ['Joe', 'Henry', 'Sam', 'Max'],\n",
        "}\n",
        "\n",
        "orders_data = {\n",
        "    'id': [1, 2],\n",
        "    'customerId': [3, 1],\n",
        "}\n",
        "\n",
        "# Create DataFrames from the sample data\n",
        "customers_df = pd.DataFrame(customers_data)\n",
        "orders_df = pd.DataFrame(orders_data)\n",
        "\n",
        "# Call the function and get the result\n",
        "result = find_customers(customers_df, orders_df)\n",
        "\n",
        "# Print the result\n",
        "print(result)\n"
      ],
      "metadata": {
        "colab": {
          "base_uri": "https://localhost:8080/"
        },
        "id": "SLXxU7xFpGoq",
        "outputId": "9a327396-79a1-4e04-bfb7-039e110f6942"
      },
      "execution_count": 2,
      "outputs": [
        {
          "output_type": "stream",
          "name": "stdout",
          "text": [
            "    name\n",
            "1  Henry\n",
            "3    Max\n"
          ]
        }
      ]
    }
  ]
}