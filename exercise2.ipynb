{
  "nbformat": 4,
  "nbformat_minor": 0,
  "metadata": {
    "colab": {
      "provenance": [],
      "authorship_tag": "ABX9TyMXM7tT/PMhkAAE/1tgRHid",
      "include_colab_link": true
    },
    "kernelspec": {
      "name": "python3",
      "display_name": "Python 3"
    },
    "language_info": {
      "name": "python"
    }
  },
  "cells": [
    {
      "cell_type": "markdown",
      "metadata": {
        "id": "view-in-github",
        "colab_type": "text"
      },
      "source": [
        "<a href=\"https://colab.research.google.com/github/pablex72/30-days-of-pandas-leetcode/blob/main/exercise2.ipynb\" target=\"_parent\"><img src=\"https://colab.research.google.com/assets/colab-badge.svg\" alt=\"Open In Colab\"/></a>"
      ]
    },
    {
      "cell_type": "markdown",
      "source": [
        "Exercise 2: Print the sum of the current number and the previous number"
      ],
      "metadata": {
        "id": "sAOet87pt7Op"
      }
    },
    {
      "cell_type": "code",
      "execution_count": null,
      "metadata": {
        "id": "JSYUsHeTsggE"
      },
      "outputs": [],
      "source": [
        "print(\"Printing current and previous number and their sum in a range(10)\")\n",
        "previous_num = 0\n",
        "\n",
        "# loop from 1 to 10\n",
        "for i in range(1, 11):\n",
        "    x_sum = previous_num + i\n",
        "    print(\"Current Number\", i, \"Previous Number \", previous_num, \" Sum: \", x_sum)\n",
        "    # modify previous number\n",
        "    # set it to the current number\n",
        "    previous_num = i"
      ]
    }
  ]
}