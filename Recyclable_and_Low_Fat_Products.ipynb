{
  "nbformat": 4,
  "nbformat_minor": 0,
  "metadata": {
    "colab": {
      "provenance": [],
      "authorship_tag": "ABX9TyNQi0zrJMxKZ1fuoa5JQ2xd",
      "include_colab_link": true
    },
    "kernelspec": {
      "name": "python3",
      "display_name": "Python 3"
    },
    "language_info": {
      "name": "python"
    }
  },
  "cells": [
    {
      "cell_type": "markdown",
      "metadata": {
        "id": "view-in-github",
        "colab_type": "text"
      },
      "source": [
        "<a href=\"https://colab.research.google.com/github/pablex72/30-days-of-pandas-leetcode/blob/main/Recyclable_and_Low_Fat_Products.ipynb\" target=\"_parent\"><img src=\"https://colab.research.google.com/assets/colab-badge.svg\" alt=\"Open In Colab\"/></a>"
      ]
    },
    {
      "cell_type": "code",
      "execution_count": 1,
      "metadata": {
        "id": "nqLbnnGwgY-_"
      },
      "outputs": [],
      "source": [
        "import pandas as pd\n",
        "\n",
        "def find_products(products: pd.DataFrame) -> pd.DataFrame:\n",
        "    # Filter the products that are both low fat and recyclable\n",
        "    result_df = products[(products['low_fats'] == 'Y') & (products['recyclable'] == 'Y')]\n",
        "\n",
        "    # Select only the product_id column\n",
        "    result_df = result_df[['product_id']]\n",
        "\n",
        "    return result_df\n"
      ]
    },
    {
      "cell_type": "code",
      "source": [
        "# Sample data for testing\n",
        "data = {\n",
        "    'product_id': [1, 2, 3, 4, 5],\n",
        "    'low_fats': ['Y', 'Y', 'N', 'Y', 'N'],\n",
        "    'recyclable': ['Y', 'N', 'Y', 'Y', 'N'],\n",
        "}\n",
        "\n",
        "# Create a DataFrame from the sample data\n",
        "products_df = pd.DataFrame(data)\n",
        "\n",
        "# Call the function and get the result\n",
        "result = find_products(products_df)\n",
        "\n",
        "# Print the result\n",
        "print(result)\n"
      ],
      "metadata": {
        "colab": {
          "base_uri": "https://localhost:8080/"
        },
        "id": "U8mrNwLEg3P6",
        "outputId": "2d4190b0-085e-4b6b-c6a5-659e5a956f26"
      },
      "execution_count": 2,
      "outputs": [
        {
          "output_type": "stream",
          "name": "stdout",
          "text": [
            "   product_id\n",
            "0           1\n",
            "3           4\n"
          ]
        }
      ]
    }
  ]
}